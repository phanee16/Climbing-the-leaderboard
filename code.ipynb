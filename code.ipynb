def climbingLeaderboard(ranked, player):
    # Remove duplicates from ranked scores and sort in descending order
    unique_scores = sorted(set(ranked), reverse=True)
    n = len(unique_scores)
    result = []
    j = n-1  # Index of the last score in ranked
    for p in player:
        # Move the index j to the position of the score that is greater than or equal to p
        while j >= 0 and p >= unique_scores[j]:
            j -= 1
        # Append the ranking of p to the result
        result.append(j+2)
    return result
